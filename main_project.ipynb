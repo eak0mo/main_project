{
 "cells": [
  {
   "cell_type": "code",
   "execution_count": null,
   "outputs": [],
   "source": [
    "import matplotlib.pyplot as plt\n",
    "import numpy as np"
   ],
   "metadata": {
    "collapsed": false,
    "pycharm": {
     "name": "#%%\n"
    }
   }
  },
  {
   "cell_type": "code",
   "execution_count": null,
   "outputs": [],
   "source": [
    "obs_size=24\n",
    "action_size=4\n",
    "table=np.zeros(obs_size,action_size)\n",
    "table.shape()"
   ],
   "metadata": {
    "collapsed": false,
    "pycharm": {
     "name": "#%%\n"
    }
   }
  },
  {
   "cell_type": "code",
   "execution_count": null,
   "outputs": [],
   "source": [
    "obs_size=24\n",
    "action_size=4\n",
    "def Q_learn():\n",
    "    # observation space is 24, action is 4, assume state is equal to obs\n",
    "    Q_table= np.zeros(obs_size,action_size)\n"
   ],
   "metadata": {
    "collapsed": false,
    "pycharm": {
     "name": "#%%\n"
    }
   }
  },
  {
   "cell_type": "code",
   "execution_count": null,
   "outputs": [],
   "source": [
    "import gym\n",
    "#LunarLander-v2\n",
    "#python gym/envs/box2d/bipedal_walker.py\n",
    "#BipedalWalker-v3\n",
    "#CartPole-v1\n",
    "env = gym.make(\"BipedalWalker-v3\",render_mode=\"human\")\n",
    "observation, info = env.reset(seed=42, return_info=True)\n",
    "\n",
    "for _ in range(1000):\n",
    "\n",
    "    action = env.action_space.sample()\n",
    "    observation, reward, done, info = env.step(action)\n",
    "    print(action)\n",
    "    if done:\n",
    "        observation, info = env.reset(return_info=True)\n",
    "env.close()\n",
    "print(reward)"
   ],
   "metadata": {
    "collapsed": false,
    "pycharm": {
     "name": "#%%\n"
    }
   }
  },
  {
   "cell_type": "code",
   "execution_count": null,
   "outputs": [],
   "source": [
    "print(env.action_space.shape ,observation.size)"
   ],
   "metadata": {
    "collapsed": false,
    "pycharm": {
     "name": "#%%\n"
    }
   }
  },
  {
   "cell_type": "code",
   "execution_count": null,
   "outputs": [],
   "source": [
    "#print(observation)\n",
    "print(reward)\n",
    "\n"
   ],
   "metadata": {
    "collapsed": false,
    "pycharm": {
     "name": "#%%\n"
    }
   }
  },
  {
   "cell_type": "code",
   "execution_count": null,
   "outputs": [],
   "source": [
    "observation"
   ],
   "metadata": {
    "collapsed": false,
    "pycharm": {
     "name": "#%%\n"
    }
   }
  },
  {
   "cell_type": "code",
   "execution_count": 2,
   "metadata": {
    "collapsed": false,
    "pycharm": {
     "name": "#%%\n"
    }
   },
   "outputs": [
    {
     "name": "stdout",
     "output_type": "stream",
     "text": [
      "-0.07604836109280587\n"
     ]
    }
   ],
   "source": [
    "#print(observation)\n",
    "print(reward)\n",
    "\n"
   ]
  },
  {
   "cell_type": "code",
   "execution_count": 3,
   "metadata": {
    "pycharm": {
     "name": "#%%\n"
    }
   },
   "outputs": [
    {
     "data": {
      "text/plain": [
       "array([ 6.2141348e-02, -4.9744127e-03, -2.5972214e-02,  1.9911097e-02,\n",
       "       -7.3044628e-01,  1.2499954e-01, -6.2816501e-01, -9.9998897e-01,\n",
       "        0.0000000e+00,  1.1082498e+00,  7.1525574e-07,  9.3490732e-01,\n",
       "        1.5737464e-03,  1.0000000e+00,  2.2973527e-01,  2.3234425e-01,\n",
       "        2.4047576e-01,  2.5513467e-01,  2.7835375e-01,  3.1397945e-01,\n",
       "        3.6958104e-01,  4.6171349e-01,  6.3400126e-01,  1.0000000e+00],\n",
       "      dtype=float32)"
      ]
     },
     "execution_count": 3,
     "metadata": {},
     "output_type": "execute_result"
    }
   ],
   "source": [
    "observation"
   ]
  },
  {
   "cell_type": "code",
   "execution_count": 4,
   "metadata": {
    "collapsed": false,
    "pycharm": {
     "name": "#%%\n"
    }
   },
   "outputs": [
    {
     "name": "stdout",
     "output_type": "stream",
     "text": [
      "[ 0.17722179 -0.81600684 -0.57724774 -0.05013111]\n",
      "[-0.4571788   0.7102515  -0.2385167  -0.45787433]\n",
      "[-0.90532774  0.69443667  0.4218248  -0.49344227]\n",
      "[-0.8082145  -0.27561927  0.5454736  -0.17809473]\n",
      "[ 0.87434584  0.7635797  -0.2186255  -0.49479973]\n",
      "[-0.8421861  0.2143691  0.3033633 -0.389969 ]\n",
      "[-0.5042189   0.24916908  0.4685806   0.13646188]\n",
      "[ 0.6292686   0.7172533   0.11109225 -0.74738806]\n",
      "[-0.22080334 -0.63543665 -0.37682873  0.24175404]\n",
      "[ 0.76789963  0.46594495 -0.14329144  0.3920047 ]\n",
      "[-0.5904866  -0.18356302  0.03182431 -0.5538152 ]\n",
      "[-0.03460261  0.3026079   0.04255234  0.46719337]\n",
      "[-0.22694883  0.9696545   0.7357894   0.6797835 ]\n",
      "[-0.24364486 -0.42422003  0.53626925  0.04267367]\n",
      "[ 0.17905734  0.93494403 -0.47969225  0.762298  ]\n",
      "[-0.97717613 -0.64158106 -0.8060654  -0.02709807]\n",
      "[-0.714797   -0.7613223   0.4119543  -0.68601775]\n",
      "[-0.8400358  -0.95874286 -0.9812047   0.1270022 ]\n",
      "[-0.2713477   0.88510346 -0.101604   -0.6460893 ]\n",
      "[-0.98662335  0.7918652   0.13846312  0.50113285]\n",
      "[ 0.09730978  0.21277626 -0.80081254 -0.9379649 ]\n",
      "[0.47277924 0.32662013 0.5560478  0.83066523]\n",
      "[-0.83035386  0.34922722  0.26865414 -0.49233523]\n",
      "[-0.1629254   0.93898034 -0.44727483  0.24830478]\n",
      "[-0.4199331  -0.08926509  0.19243288 -0.26387867]\n",
      "[0.29626215 0.03013208 0.31772685 0.48779574]\n",
      "[ 0.6218617  -0.07983166 -0.12269424 -0.986965  ]\n",
      "[-0.5684609   0.1933426   0.3252594  -0.97701836]\n",
      "[ 0.616441   0.9084178 -0.9822445  0.5728372]\n",
      "[ 0.62003595 -0.8923645   0.5415122   0.11193233]\n",
      "[ 0.96929836 -0.7015213  -0.82164365 -0.6017711 ]\n",
      "[ 0.60927844  0.6577878   0.6164691  -0.21120971]\n",
      "[-0.9510455   0.18749307 -0.02135858 -0.73826796]\n",
      "[ 0.8320425  -0.21979247 -0.57530034  0.35179454]\n",
      "[ 0.89269346 -0.19271667 -0.04857215  0.41788244]\n",
      "[-0.24277043 -0.15514578 -0.25398582  0.42902467]\n",
      "[0.17203319 0.15211718 0.801346   0.31730714]\n",
      "[-0.9270186   0.9255428  -0.29418594  0.5972494 ]\n",
      "[ 0.3097775  -0.3805637  -0.4266832   0.34485176]\n",
      "[-0.919609    0.41879344 -0.85628957  0.01281961]\n"
     ]
    }
   ],
   "source": [
    "for i in range(40):\n",
    "    print(env.action_space.sample())"
   ]
  },
  {
   "cell_type": "code",
   "execution_count": 1,
   "metadata": {
    "collapsed": false,
    "pycharm": {
     "name": "#%%\n"
    }
   },
   "outputs": [
    {
     "ename": "NameError",
     "evalue": "name 'impo' is not defined",
     "output_type": "error",
     "traceback": [
      "\u001B[1;31m---------------------------------------------------------------------------\u001B[0m",
      "\u001B[1;31mNameError\u001B[0m                                 Traceback (most recent call last)",
      "Input \u001B[1;32mIn [1]\u001B[0m, in \u001B[0;36m<cell line: 1>\u001B[1;34m()\u001B[0m\n\u001B[1;32m----> 1\u001B[0m \u001B[43mimpo\u001B[49m\n",
      "\u001B[1;31mNameError\u001B[0m: name 'impo' is not defined"
     ]
    }
   ],
   "source": []
  },
  {
   "cell_type": "code",
   "execution_count": null,
   "metadata": {
    "collapsed": false,
    "pycharm": {
     "name": "#%%\n"
    }
   },
   "outputs": [],
   "source": [
    "import"
   ]
  }
 ],
 "metadata": {
  "kernelspec": {
   "display_name": "Python 3.8.13 ('base')",
   "language": "python",
   "name": "python3"
  },
  "language_info": {
   "codemirror_mode": {
    "name": "ipython",
    "version": 3
   },
   "file_extension": ".py",
   "mimetype": "text/x-python",
   "name": "python",
   "nbconvert_exporter": "python",
   "pygments_lexer": "ipython3",
   "version": "3.8.13"
  },
  "vscode": {
   "interpreter": {
    "hash": "64b689a92ea65d3723e68839b069ae5930cbf1a0de1344e19a2f07f839567760"
   }
  }
 },
 "nbformat": 4,
 "nbformat_minor": 0
}